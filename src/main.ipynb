{
 "cells": [
  {
   "cell_type": "code",
   "execution_count": 14,
   "id": "f12c3249-cb63-4012-9b81-3b48ba43ccdc",
   "metadata": {
    "tags": []
   },
   "outputs": [
    {
     "name": "stdout",
     "output_type": "stream",
     "text": [
      "\n",
      "Welcome to the Car Rental System!\n",
      "1. Display Available Cars\n",
      "2. Rent a Car\n",
      "3. Return Car\n",
      "4. Exit\n"
     ]
    },
    {
     "name": "stdin",
     "output_type": "stream",
     "text": [
      "Enter your choice:  1\n"
     ]
    },
    {
     "name": "stdout",
     "output_type": "stream",
     "text": [
      "Available Cars:\n",
      "Sedan: 5\n",
      "SUV: 3\n",
      "Hatchback: 2\n",
      "\n",
      "Welcome to the Car Rental System!\n",
      "1. Display Available Cars\n",
      "2. Rent a Car\n",
      "3. Return Car\n",
      "4. Exit\n"
     ]
    },
    {
     "name": "stdin",
     "output_type": "stream",
     "text": [
      "Enter your choice:  2\n"
     ]
    },
    {
     "name": "stdout",
     "output_type": "stream",
     "text": [
      "\n",
      "Welcome to the Car Rental System!\n",
      "1. Display Available Cars\n",
      "2. Rent a Car\n",
      "3. Return Car\n",
      "4. Exit\n"
     ]
    },
    {
     "name": "stdin",
     "output_type": "stream",
     "text": [
      "Enter your choice:  4\n"
     ]
    },
    {
     "name": "stdout",
     "output_type": "stream",
     "text": [
      "Thank you for using the Car Rental System!\n"
     ]
    }
   ],
   "source": [
    "# from car_rental import CarRental, Customer\n",
    "\n",
    "# Define initial car inventory\n",
    "inventory = {\"Sedan\": 5, \"SUV\": 3, \"Hatchback\": 2}\n",
    "\n",
    "# Create car rental and customer objects\n",
    "car_rental_system = CarRental(inventory)\n",
    "customer = Customer(\"John Doe\")\n",
    "\n",
    "while True:\n",
    "  print(\"\\nWelcome to the Car Rental System!\")\n",
    "  print(\"1. Display Available Cars\")\n",
    "  print(\"2. Rent a Car\")\n",
    "  print(\"3. Return Car\")\n",
    "  print(\"4. Exit\")\n",
    "\n",
    "  choice = int(input(\"Enter your choice: \"))\n",
    "\n",
    "  if choice == 1:\n",
    "    customer.request_car(car_rental_system, choice)\n",
    "  elif choice == 2:\n",
    "    # Implement logic for choosing rental mode and car details\n",
    "    # Call car rental methods (rent_car_hourly, rent_car_daily, rent_car_weekly)\n",
    "    pass\n",
    "  elif choice == 3:\n",
    "    # Implement logic for returning car details\n",
    "    # Call car_rental.return_car method\n",
    "    pass\n",
    "  elif choice == 4:\n",
    "    print(\"Thank you for using the Car Rental System!\")\n",
    "    break\n",
    "  else:\n",
    "    print(\"Invalid choice. Please try again.\")"
   ]
  }
 ],
 "metadata": {
  "kernelspec": {
   "display_name": "Python 3 (ipykernel)",
   "language": "python",
   "name": "python3"
  },
  "language_info": {
   "codemirror_mode": {
    "name": "ipython",
    "version": 3
   },
   "file_extension": ".py",
   "mimetype": "text/x-python",
   "name": "python",
   "nbconvert_exporter": "python",
   "pygments_lexer": "ipython3",
   "version": "3.11.7"
  }
 },
 "nbformat": 4,
 "nbformat_minor": 5
}
